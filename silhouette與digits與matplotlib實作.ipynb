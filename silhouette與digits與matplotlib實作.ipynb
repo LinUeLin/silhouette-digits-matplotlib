{
 "cells": [
  {
   "cell_type": "code",
   "execution_count": 1,
   "metadata": {},
   "outputs": [
    {
     "name": "stdout",
     "output_type": "stream",
     "text": [
      "0.4969928499606247\n"
     ]
    }
   ],
   "source": [
    "#silhouette輪廓係數\n",
    "from sklearn import datasets, cluster, metrics\n",
    "iris=datasets.load_iris()\n",
    "iris_X=iris.data\n",
    "\n",
    "result=cluster.KMeans(n_clusters=4).fit(iris_X)\n",
    "result.labels_\n",
    "\n",
    "#算silhouette score,越接近1分群結果越好\n",
    "silhouette_avg=metrics.silhouette_score(iris_X, result.labels_)\n",
    "print(silhouette_avg)"
   ]
  },
  {
   "cell_type": "code",
   "execution_count": 3,
   "metadata": {},
   "outputs": [
    {
     "data": {
      "image/png": "[encoded data removed]",
      "text/plain": [
       "<matplotlib.figure.Figure at 0xb391828>"
      ]
     },
     "metadata": {},
     "output_type": "display_data"
    }
   ],
   "source": [
    "from sklearn import datasets, cluster, metrics\n",
    "import matplotlib.pyplot as pt\n",
    "iris=datasets.load_iris()\n",
    "iris_X=iris.data\n",
    "\n",
    "ks=range(2,11)\n",
    "silhouette_avgs=[]\n",
    "\n",
    "for n in ks :\n",
    "    result=cluster.KMeans(n_clusters=n).fit(iris_X)\n",
    "    silhouette_avg=metrics.silhouette_score(iris_X, result.labels_)\n",
    "    silhouette_avgs.append(silhouette_avg)\n",
    "    \n",
    "pt.bar(ks,silhouette_avgs)\n",
    "pt.show()"
   ]
  },
  {
   "cell_type": "code",
   "execution_count": 1,
   "metadata": {},
   "outputs": [
    {
     "name": "stdout",
     "output_type": "stream",
     "text": [
      "0.18237571549327078\n"
     ]
    }
   ],
   "source": [
    "#digitsmatplotlib資料讀入\n",
    "from sklearn import datasets, cluster, metrics\n",
    "digits=datasets.load_digits()\n",
    "digits_data=digits.data\n",
    "digitals_fit=cluster.KMeans(n_clusters=10).fit(digits_data)\n",
    "silhouette_avg=metrics.silhouette_score(digits_data, digitals_fit.labels_)\n",
    "print(silhouette_avg)"
   ]
  },
  {
   "cell_type": "code",
   "execution_count": 3,
   "metadata": {},
   "outputs": [
    {
     "data": {
      "image/png": "[encoded data removed]",
      "text/plain": [
       "<matplotlib.figure.Figure at 0xb75b2e8>"
      ]
     },
     "metadata": {},
     "output_type": "display_data"
    }
   ],
   "source": [
    "#matplotlib手寫圖片\n",
    "from sklearn import datasets\n",
    "import matplotlib.pyplot as plt\n",
    "digits=datasets.load_digits()\n",
    "plt.figure(1, figsize=(3,3))\n",
    "plt.imshow(digits.images[1], cmap=plt.cm.gray_r, interpolation='nearest')\n",
    "plt.show()"
   ]
  },
  {
   "cell_type": "code",
   "execution_count": 9,
   "metadata": {},
   "outputs": [
    {
     "data": {
      "image/png": "[encoded data removed]",
      "text/plain": [
       "<matplotlib.figure.Figure at 0x327a668>"
      ]
     },
     "metadata": {},
     "output_type": "display_data"
    }
   ],
   "source": [
    "from sklearn import datasets, cluster, metrics\n",
    "from sklearn import svm\n",
    "from sklearn.cross_validation import train_test_split\n",
    "import matplotlib.pyplot as plt\n",
    "\n",
    "digits=datasets.load_digits()\n",
    "#X為資料,y為分類結果,images為影像檔，三者都要分成train(訓練資料)與test(測試資料)\n",
    "#75%=0,75為訓練資料，25%=0.25為測試資料，random_state為亂數起值\n",
    "X_train, X_test, y_train, y_test, images_train, images_test = train_test_split(digits.data, digits.target, digits.images, test_size=0.25, random_state=42)\n",
    "svc_model = svm.SVC(gamma=0.001, C=100, kernel='linear')\n",
    "svc_model.fit(X_train, y_train)\n",
    "predicted = svc_model.predict(X_test)\n",
    "#以下為畫圖\n",
    "images_and_predictions = list(zip(images_test, predicted))\n",
    "for index, (image, prediction) in enumerate(images_and_predictions[:5]):\n",
    "    plt.subplot(1, 5, index + 1)\n",
    "    plt.axis('off')\n",
    "    plt.imshow(image, cmap=plt.cm.binary)\n",
    "    plt.title('Predicted:  '+ str(prediction))\n",
    "plt.show()"
   ]
  },
  {
   "cell_type": "code",
   "execution_count": null,
   "metadata": {},
   "outputs": [],
   "source": []
  }
 ],
 "metadata": {
  "kernelspec": {
   "display_name": "Python 3",
   "language": "python",
   "name": "python3"
  },
  "language_info": {
   "codemirror_mode": {
    "name": "ipython",
    "version": 3
   },
   "file_extension": ".py",
   "mimetype": "text/x-python",
   "name": "python",
   "nbconvert_exporter": "python",
   "pygments_lexer": "ipython3",
   "version": "3.6.4"
  }
 },
 "nbformat": 4,
 "nbformat_minor": 2
}
